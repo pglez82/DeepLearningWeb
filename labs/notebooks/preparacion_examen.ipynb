{
 "cells": [
  {
   "cell_type": "markdown",
   "id": "43ff686d",
   "metadata": {},
   "source": [
    "## Ejercicio preparación examen\n",
    "\n",
    "Escribe el código completo para entrenar una red neuronal sobre un dataset tabular usando PyTorch."
   ]
  },
  {
   "cell_type": "markdown",
   "id": "3bd215c0",
   "metadata": {},
   "source": [
    "#### 1) Descarga de los datos"
   ]
  },
  {
   "cell_type": "code",
   "execution_count": null,
   "id": "3560c451",
   "metadata": {},
   "outputs": [],
   "source": [
    "!pip install kagglehub\n",
    "\n",
    "import kagglehub\n",
    "import pandas as pd\n",
    "\n",
    "# Download latest version\n",
    "path = kagglehub.dataset_download(\"sansuthi/dry-bean-dataset\")\n",
    "data = pd.read_csv(path + \"/Dry_Bean.csv\")\n",
    "\n",
    "print(data.head())"
   ]
  },
  {
   "cell_type": "markdown",
   "id": "f4135421",
   "metadata": {},
   "source": [
    "#### 2) Preparando los datos para entrenar"
   ]
  },
  {
   "cell_type": "code",
   "execution_count": null,
   "id": "675cb914",
   "metadata": {},
   "outputs": [],
   "source": [
    "target_col = \"Class\"\n",
    "data[target_col] = data[target_col].astype('category')\n",
    "y = data[target_col].cat.codes  # Convertir etiquetas a códigos numéricos\n",
    "X = data.drop(columns=[target_col]) # Características\n",
    "X = X.to_numpy()  # Convertir a numpy array\n",
    "y = y.to_numpy()\n",
    "\n",
    "print(X.shape)\n",
    "print(y.shape)\n"
   ]
  },
  {
   "cell_type": "markdown",
   "id": "810b727b",
   "metadata": {},
   "source": [
    "#### Tu turno. \n",
    "Básicamente lo que tienes que hacer es resolver este problema de clasificación multiclase utilizando PyTorch. Para ello deberás realizar las siguientes tareas:\n",
    "- Escribe el código necesario para crear los datasets y dataloaders necesarios (tanto para train, validación y test). En este punto puedes empezar usando TensorDataset pero también podrías implementar tu propia subclase que herede Dataset para practicar.\n",
    "- Crea un modelo con capas lineales, funciones de activación, etc. \n",
    "- Crea el código necesario para entrenar el modelo. Elige tu optimizador, función de pérdida, etc.\n",
    "- Establece las semillas correctamente para que tus resutados sean reproducibles entre ejecuciones.\n",
    "- Imprime información por la consola para ver como progresa el entrenamiento (asegúrate de que la loss va decreciendo según pasan las iteraciones).\n",
    "- Crea un bucle de validación para verificar que no te estás sobreajustando.\n",
    "- Añade Early Stopping a tu proceso de entrenamiento. Guarda el mejor modelo basandose en el error de validación para poder cargarlo luego. \n",
    "- En tu validación, imprime otras métricas como F1 de tu clasificador o el acierto. \n",
    "- Loguea los experimentos usando Wandb. \n",
    "- Asegúrate de que tu código, una vez que funciona en la CPU, puede también ejecutarse en la GPU.\n",
    "- Busca el mejor valor del learning rate utiliznado Optuna."
   ]
  }
 ],
 "metadata": {
  "kernelspec": {
   "display_name": ".venv",
   "language": "python",
   "name": "python3"
  },
  "language_info": {
   "codemirror_mode": {
    "name": "ipython",
    "version": 3
   },
   "file_extension": ".py",
   "mimetype": "text/x-python",
   "name": "python",
   "nbconvert_exporter": "python",
   "pygments_lexer": "ipython3",
   "version": "3.12.3"
  }
 },
 "nbformat": 4,
 "nbformat_minor": 5
}
