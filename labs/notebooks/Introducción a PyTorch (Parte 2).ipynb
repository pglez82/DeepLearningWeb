{
 "cells": [
  {
   "attachments": {},
   "cell_type": "markdown",
   "metadata": {},
   "source": [
    "## Introducción a PyTorch (Parte 2)\n",
    "\n",
    "<a target=\"_blank\" href=\"https://colab.research.google.com/github/pglez82/DeepLearningWeb/blob/master/labs/notebooks/Introducci%C3%B3n%20a%20PyTorch%20(Parte%202).ipynb\">\n",
    "  <img src=\"https://colab.research.google.com/assets/colab-badge.svg\" alt=\"Open In Colab\"/>\n",
    "</a>\n",
    "\n",
    "En esta segunda parte del tutorial vamos a empezar a usar los tensores como herramientas fundamentales para construir redes neuronales. Es decir, vamos a utilizar la capacidad de los tensores de calcular **gradientes**. La capacidad de construir grafos computacionales y calcular gradientes de manera automática es una de las características más importantes de frameworks como PyTorch. \n",
    "\n"
   ]
  },
  {
   "attachments": {},
   "cell_type": "markdown",
   "metadata": {},
   "source": [
    "#### Tensores y gradientes\n",
    "Por defecto, un tensor no tiene espacio para almacenar su gradiente:"
   ]
  },
  {
   "cell_type": "code",
   "execution_count": null,
   "metadata": {},
   "outputs": [],
   "source": [
    "import torch\n",
    "\n",
    "t1 = torch.tensor([2.,3.])\n",
    "print(t1)\n",
    "print(t1.requires_grad)\n"
   ]
  },
  {
   "attachments": {},
   "cell_type": "markdown",
   "metadata": {},
   "source": [
    "Si queremos ser capaces de hacer backpropagation y que el tensor pueda calcular su gradiente dentro de un grafo computacional, debemos indicarlo:"
   ]
  },
  {
   "cell_type": "code",
   "execution_count": null,
   "metadata": {},
   "outputs": [],
   "source": [
    "t1 = torch.tensor([2.,3.], requires_grad=True)\n",
    "print(t1)\n",
    "print(t1.requires_grad)"
   ]
  },
  {
   "attachments": {},
   "cell_type": "markdown",
   "metadata": {},
   "source": [
    "Ten en cuenta que para que el tensor pueda usar **requires_grad**, su tipo debe de ser float o uno de sus subtipos."
   ]
  },
  {
   "attachments": {},
   "cell_type": "markdown",
   "metadata": {},
   "source": [
    "Vamos a crear ahora un grafo computacional simple y a calcular los gradientes de manera sencilla. Por ejemplo, imaginemos las siguientes operaciones:"
   ]
  },
  {
   "cell_type": "code",
   "execution_count": null,
   "metadata": {},
   "outputs": [],
   "source": [
    "x = torch.arange(3, dtype=torch.float32, requires_grad=True)\n",
    "z = x+1\n",
    "z = z**2\n",
    "z = z+2\n",
    "y = z.mean()\n",
    "print(y)\n"
   ]
  },
  {
   "attachments": {},
   "cell_type": "markdown",
   "metadata": {},
   "source": [
    "La función que estamos programando aquí es la siguiente $$y=\\dfrac{\\sum_{i=1}^n{(x_i+1)^2+2}}{n}$$"
   ]
  },
  {
   "attachments": {},
   "cell_type": "markdown",
   "metadata": {},
   "source": [
    "Podemos ahora calcular el gradiente de $y$ con respecto a $x_i$:"
   ]
  },
  {
   "cell_type": "code",
   "execution_count": null,
   "metadata": {},
   "outputs": [],
   "source": [
    "y.backward()\n",
    "print(x.grad)"
   ]
  },
  {
   "attachments": {},
   "cell_type": "markdown",
   "metadata": {},
   "source": [
    "Es decir, lo que estamos visualizando aquí es el cálculo del gradiente, es decir, $\\dfrac{\\partial{y}}{\\partial{x_i}}$ para cada una de las entradas $x_i$. Te dejo como ejercicio que hagas estos cáculos tu con papel y lápiz utilizando la **regla de la cadena** y te salga el mismo resultado."
   ]
  },
  {
   "attachments": {},
   "cell_type": "markdown",
   "metadata": {},
   "source": [
    "#### Visualización del grafo computacional\n",
    "Vamos ahora a visualizar el grafo computacional para el ejemplo anterior. Para ello debemos utilizar un paquete extra (torchviz, que no viene en PyTorch por defecto). En un notebook podríamos instalarlo con `!pip install nombre_librería`."
   ]
  },
  {
   "cell_type": "code",
   "execution_count": null,
   "metadata": {},
   "outputs": [],
   "source": [
    "!pip install torchviz"
   ]
  },
  {
   "cell_type": "markdown",
   "metadata": {},
   "source": [
    "Creamos ahora el grafo computacional:"
   ]
  },
  {
   "cell_type": "code",
   "execution_count": null,
   "metadata": {},
   "outputs": [],
   "source": [
    "from torchviz import make_dot\n",
    "\n",
    "dot = make_dot(y, params={\"x\": x})\n",
    "\n",
    "dot"
   ]
  },
  {
   "attachments": {},
   "cell_type": "markdown",
   "metadata": {},
   "source": [
    "### Ejercicios propuestos\n",
    "\n",
    "1) Prueba a realizar el cálculo analítico de la función anterior en papel y a calcular las derivadas parciales. ¿Obtienes el mismo resultado?\n",
    "2) Comprueba los tipos de los tensores, ¿qué sucede si cambias la creación del tensor por `t1 = torch.tensor([2,3], requires_grad=True)`?. ¿Por qué? \n",
    "3) Implementa la siguiente función en PyTorch $$y=\\dfrac{\\sum_{i=1}^n{sin(x_i)×exp(x_i)+\\dfrac{1}{x_i+2}}}{n}$$.\n",
    "   - Dibuja su grafo computacional.\n",
    "   - Crea un tensor con números desde 1 hasta 5.\n",
    "   - Evalúa esta función para este tensor de entrada.\n",
    "   - Calcula el gradiente correspondiente para cada una de estas entradas $\\dfrac{\\partial{y}}{\\partial{x_i}}$."
   ]
  }
 ],
 "metadata": {
  "kernelspec": {
   "display_name": "Python 3",
   "language": "python",
   "name": "python3"
  },
  "language_info": {
   "codemirror_mode": {
    "name": "ipython",
    "version": 3
   },
   "file_extension": ".py",
   "mimetype": "text/x-python",
   "name": "python",
   "nbconvert_exporter": "python",
   "pygments_lexer": "ipython3",
   "version": "3.10.12"
  },
  "orig_nbformat": 4
 },
 "nbformat": 4,
 "nbformat_minor": 2
}
